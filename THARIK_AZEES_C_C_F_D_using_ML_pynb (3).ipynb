{
  "nbformat": 4,
  "nbformat_minor": 0,
  "metadata": {
    "colab": {
      "private_outputs": true,
      "provenance": [],
      "gpuType": "T4"
    },
    "kernelspec": {
      "name": "python3",
      "display_name": "Python 3"
    },
    "language_info": {
      "name": "python"
    },
    "accelerator": "GPU",
    "gpuClass": "standard"
  },
  "cells": [
    {
      "cell_type": "code",
      "execution_count": null,
      "metadata": {
        "id": "rxkV30rlRNUZ"
      },
      "outputs": [],
      "source": [
        "##To import python libraries.........!\n",
        "import pandas as pd\n",
        "import numpy as np\n",
        "import matplotlib.pyplot as plt\n",
        "import seaborn as sns\n",
        "import warnings\n",
        "%matplotlib inline\n",
        "sns.set()\n",
        "##To avoid warnings...............!\n",
        "warnings.simplefilter('ignore')"
      ]
    },
    {
      "cell_type": "code",
      "source": [
        "##Data Preprocessing work..........!\n",
        "## To import Data_set........!\n",
        "df = pd.read_csv('/content/creditcard.csv')"
      ],
      "metadata": {
        "id": "r7yi1UtSRVNm"
      },
      "execution_count": null,
      "outputs": []
    },
    {
      "cell_type": "code",
      "source": [
        "##To show the Data_set Headings.........!\n",
        "df.head()"
      ],
      "metadata": {
        "id": "0HcU2TUXXZ4u"
      },
      "execution_count": null,
      "outputs": []
    },
    {
      "cell_type": "code",
      "source": [
        "##To check shape.....!\n",
        "df.shape"
      ],
      "metadata": {
        "id": "iGIRCogBRVT1"
      },
      "execution_count": null,
      "outputs": []
    },
    {
      "cell_type": "code",
      "source": [
        "##To check null values.......!\n",
        "df.isnull().sum()"
      ],
      "metadata": {
        "id": "f6Q9WUHkRVZE"
      },
      "execution_count": null,
      "outputs": []
    },
    {
      "cell_type": "code",
      "source": [
        "## To check D_types.........!\n",
        "df.dtypes"
      ],
      "metadata": {
        "id": "fUZoossJRVgv"
      },
      "execution_count": null,
      "outputs": []
    },
    {
      "cell_type": "code",
      "source": [
        "df.Time.tail(15)"
      ],
      "metadata": {
        "id": "u80waScJRVnI"
      },
      "execution_count": null,
      "outputs": []
    },
    {
      "cell_type": "code",
      "source": [
        "## To describe the Data.........!\n",
        "df.describe()"
      ],
      "metadata": {
        "id": "ky4TXiPnRVq1"
      },
      "execution_count": null,
      "outputs": []
    },
    {
      "cell_type": "code",
      "source": [
        "##To Checking the frequency of frauds before moving forward.......!\n",
        "df.Class.value_counts()"
      ],
      "metadata": {
        "id": "M4haBnt2RVut"
      },
      "execution_count": null,
      "outputs": []
    },
    {
      "cell_type": "code",
      "source": [
        "sns.countplot(x=df.Class, hue=df.Class)"
      ],
      "metadata": {
        "id": "tv6kwLHsUc0m"
      },
      "execution_count": null,
      "outputs": []
    },
    {
      "cell_type": "code",
      "source": [
        "##To Checking the distribution of amount.........!\n",
        "plt.figure(figsize=(10, 5))\n",
        "sns.distplot(df.Amount)"
      ],
      "metadata": {
        "id": "pZm8hn8UUc6a"
      },
      "execution_count": null,
      "outputs": []
    },
    {
      "cell_type": "code",
      "execution_count": null,
      "metadata": {
        "id": "FAdYBqghSl8Q"
      },
      "outputs": [],
      "source": [
        "df['Amount-Bins'] = ''"
      ]
    },
    {
      "cell_type": "code",
      "execution_count": null,
      "metadata": {
        "id": "Di4uOOnVSl8S"
      },
      "outputs": [],
      "source": [
        "import numpy as np\n",
        "def make_bins(predictor, size=50):\n",
        "    '''\n",
        "    Takes the predictor (a series or a dataframe of single predictor) and size of bins\n",
        "    Returns bins and bin labels\n",
        "    '''\n",
        "    bins = np.linspace(predictor.min(), predictor.max(), num=size)\n",
        "    bin_labels = [f\"{int(bins[i])} to {int(bins[i+1])}\" for i in range(len(bins)-1)]\n",
        "    \n",
        "    return bins, bin_labels"
      ]
    },
    {
      "cell_type": "code",
      "execution_count": null,
      "metadata": {
        "id": "_63o7kNuSl8T"
      },
      "outputs": [],
      "source": [
        "bins, bin_labels = make_bins(df.Amount, size=10)"
      ]
    },
    {
      "cell_type": "code",
      "execution_count": null,
      "metadata": {
        "id": "9pphShRNSl8V"
      },
      "outputs": [],
      "source": [
        "df['Amount-Bins'] = pd.cut(df.Amount, bins=bins,labels=bin_labels, include_lowest=True)\n",
        "df['Amount-Bins'].head().to_frame()"
      ]
    },
    {
      "cell_type": "code",
      "execution_count": null,
      "metadata": {
        "id": "IY9FCcYoSl8X"
      },
      "outputs": [],
      "source": [
        "df['Amount-Bins'].value_counts()"
      ]
    },
    {
      "cell_type": "code",
      "execution_count": null,
      "metadata": {
        "id": "RbDzfHdeSl8Y"
      },
      "outputs": [],
      "source": [
        "plt.figure(figsize=(15, 10))\n",
        "sns.countplot(x='Amount-Bins', data=df)\n",
        "plt.xticks(rotation=45)"
      ]
    },
    {
      "cell_type": "code",
      "execution_count": null,
      "metadata": {
        "id": "-yq1J42wSl8a",
        "scrolled": false
      },
      "outputs": [],
      "source": [
        "plt.figure(figsize=(15, 10))\n",
        "sns.countplot(x='Amount-Bins', data=df[~(df['Amount-Bins'] == '0 to 2854')])\n",
        "plt.xticks(rotation=45)"
      ]
    },
    {
      "cell_type": "code",
      "source": [
        "### Predictive Modelling................!\n",
        "## One-hot encoding the Amount-Bins............!"
      ],
      "metadata": {
        "id": "PW_EeHQyRkUP"
      },
      "execution_count": null,
      "outputs": []
    },
    {
      "cell_type": "code",
      "execution_count": null,
      "metadata": {
        "id": "7ANkmF4FSl8f"
      },
      "outputs": [],
      "source": [
        "df_encoded = pd.get_dummies(data=df, columns=['Amount-Bins'])\n",
        "df = df_encoded.copy()"
      ]
    },
    {
      "cell_type": "code",
      "execution_count": null,
      "metadata": {
        "id": "GbA4LlMjSl8g"
      },
      "outputs": [],
      "source": [
        "df.head()"
      ]
    },
    {
      "cell_type": "code",
      "execution_count": null,
      "metadata": {
        "id": "qOvDeoxiSl8i"
      },
      "outputs": [],
      "source": [
        "##  To Splitting the dataset into training and testing.......!\n",
        "X = df.drop(labels='Class', axis=1)\n",
        "Y = df['Class']\n",
        "\n",
        "X.shape, Y.shape"
      ]
    },
    {
      "cell_type": "markdown",
      "metadata": {
        "id": "euwKV5PbSl8m"
      },
      "source": [
        "##ML MODEL -- Logistic Regression.........!\n"
      ]
    },
    {
      "cell_type": "code",
      "source": [
        "##Importing the required  libraries...........!\n",
        "import pandas as pd\n",
        "from sklearn.model_selection import train_test_split\n",
        "from sklearn.linear_model import LogisticRegression\n",
        "from sklearn.metrics import accuracy_score, confusion_matrix"
      ],
      "metadata": {
        "id": "XSuX-gX-IDbi"
      },
      "execution_count": null,
      "outputs": []
    },
    {
      "cell_type": "code",
      "source": [
        "##Split the data into features and labels........!\n",
        "X = df.drop('Class', axis=1)\n",
        "y = df['Class']"
      ],
      "metadata": {
        "id": "3f0dh8-rIjgD"
      },
      "execution_count": null,
      "outputs": []
    },
    {
      "cell_type": "code",
      "source": [
        "##Split the data into training and testing sets........!\n",
        "X_train, X_test, y_train, y_test = train_test_split(X, y, test_size=0.2, random_state=42)"
      ],
      "metadata": {
        "id": "FoDp3WTjIjUS"
      },
      "execution_count": null,
      "outputs": []
    },
    {
      "cell_type": "code",
      "source": [
        "##Train the logistic regression model......!\n",
        "model = LogisticRegression()\n",
        "model.fit(X_train, y_train)"
      ],
      "metadata": {
        "id": "J-I9QyYXIjIS"
      },
      "execution_count": null,
      "outputs": []
    },
    {
      "cell_type": "code",
      "source": [
        "##Predict on the test set..........!\n",
        "y_pred = model.predict(X_test)"
      ],
      "metadata": {
        "id": "9cnE8FVQIi1j"
      },
      "execution_count": null,
      "outputs": []
    },
    {
      "cell_type": "code",
      "source": [
        "# Calculate accuracy\n",
        "accuracy = accuracy_score(y_test, y_pred)\n",
        "print(\"Accuracy:\", accuracy)"
      ],
      "metadata": {
        "id": "wAnul8OIIipR"
      },
      "execution_count": null,
      "outputs": []
    },
    {
      "cell_type": "code",
      "source": [
        "# Create confusion matrix\n",
        "cm = confusion_matrix(y_test, y_pred)\n",
        "print(\"Confusion Matrix:\")\n",
        "print(cm)"
      ],
      "metadata": {
        "id": "_IwgNiZYIifz"
      },
      "execution_count": null,
      "outputs": []
    },
    {
      "cell_type": "code",
      "source": [
        "##To checking overfit for Testing Data.....!\n",
        "print(\"testing accuracy:\",model.score(X_test,y_test))"
      ],
      "metadata": {
        "id": "fNipRQHwIhwf"
      },
      "execution_count": null,
      "outputs": []
    },
    {
      "cell_type": "code",
      "source": [
        "##To checking overfit for Trainig Data.....!\n",
        "print(\"traning accuracy:\",model.score(X_train, y_train))"
      ],
      "metadata": {
        "id": "-bf_pHmDIhny"
      },
      "execution_count": null,
      "outputs": []
    },
    {
      "cell_type": "markdown",
      "source": [
        "##ML MODEL -- Support Vector Machine.........!\n"
      ],
      "metadata": {
        "id": "4ezhmofDbFZE"
      }
    },
    {
      "cell_type": "code",
      "source": [
        "##To Importing the required  libraries...........!\n",
        "import pandas as pd\n",
        "from sklearn.model_selection import train_test_split\n",
        "from sklearn.svm import SVC\n",
        "from sklearn.metrics import accuracy_score, confusion_matrix\n",
        "from sklearn.preprocessing import StandardScaler"
      ],
      "metadata": {
        "id": "vIHaZkgFr6p0"
      },
      "execution_count": null,
      "outputs": []
    },
    {
      "cell_type": "code",
      "source": [
        "##To split the data into features and labels.........!\n",
        "X = df.drop('Class', axis=1)\n",
        "y = df['Class']"
      ],
      "metadata": {
        "id": "KsxAHwXHr5B2"
      },
      "execution_count": null,
      "outputs": []
    },
    {
      "cell_type": "code",
      "source": [
        "##To split the data into training and testing sets..........!\n",
        "X_train, X_test, y_train, y_test = train_test_split(X, y, test_size=0.2, random_state=42)"
      ],
      "metadata": {
        "id": "Eee5BGeIr3X5"
      },
      "execution_count": null,
      "outputs": []
    },
    {
      "cell_type": "code",
      "source": [
        "##To apply feature scaling to normalize the data......!\n",
        "scaler = StandardScaler()\n",
        "X_train = scaler.fit_transform(X_train)\n",
        "X_test = scaler.transform(X_test)"
      ],
      "metadata": {
        "id": "D67f3rJlr1Sy"
      },
      "execution_count": null,
      "outputs": []
    },
    {
      "cell_type": "code",
      "source": [
        "##To create an SVM classifier object..........!\n",
        "model2 = SVC()"
      ],
      "metadata": {
        "id": "Vecxnb9CrzE-"
      },
      "execution_count": null,
      "outputs": []
    },
    {
      "cell_type": "code",
      "source": [
        "##To fit the model to the training data...........!\n",
        "model2.fit(X_train,y_train)"
      ],
      "metadata": {
        "id": "ofgzRJ7Gp4gV"
      },
      "execution_count": null,
      "outputs": []
    },
    {
      "cell_type": "code",
      "source": [
        "##To predict on the test set.........!\n",
        "y_pred = model.predict(X_test)"
      ],
      "metadata": {
        "id": "lQO5e231p4LY"
      },
      "execution_count": null,
      "outputs": []
    },
    {
      "cell_type": "code",
      "source": [
        "##To find accuracy......!\n",
        "accuracy = accuracy_score(y_test, y_pred)\n",
        "print(\"Accuracy:\", accuracy)"
      ],
      "metadata": {
        "id": "Bh1zzfwCnit7"
      },
      "execution_count": null,
      "outputs": []
    },
    {
      "cell_type": "code",
      "source": [
        "##To create confusion matrix..........!\n",
        "cm = confusion_matrix(y_test, y_pred)\n",
        "print(\"Confusion Matrix:\")\n",
        "print(cm)"
      ],
      "metadata": {
        "id": "2W1Jy0RlAGho"
      },
      "execution_count": null,
      "outputs": []
    },
    {
      "cell_type": "code",
      "source": [
        "##To checking overfit for Testing Data.....!\n",
        "print(\"testing accuracy:\",model2.score(X_test,y_test))"
      ],
      "metadata": {
        "id": "_Ja81maZAGsh"
      },
      "execution_count": null,
      "outputs": []
    },
    {
      "cell_type": "code",
      "source": [
        "##To checking overfit for Training Data.....!\n",
        "print(\"traning accuracy:\",model2.score(X_train, y_train))"
      ],
      "metadata": {
        "id": "deEvS9eJAG5t"
      },
      "execution_count": null,
      "outputs": []
    },
    {
      "cell_type": "markdown",
      "source": [
        "##ML MODEL -- Random Forest.........!\n"
      ],
      "metadata": {
        "id": "0eDIpBV3MbvN"
      }
    },
    {
      "cell_type": "code",
      "source": [
        "#### TO Importing the required  libraries...........!\n",
        "from sklearn.ensemble import RandomForestClassifier\n",
        "from sklearn.metrics import confusion_matrix, accuracy_score\n",
        "from sklearn.model_selection import train_test_split"
      ],
      "metadata": {
        "id": "5hptb9xLJUz-"
      },
      "execution_count": null,
      "outputs": []
    },
    {
      "cell_type": "code",
      "source": [
        "##To Split the data into training and testing sets........!\n",
        "X_train, X_test, y_train, y_test = train_test_split(X, y, test_size=0.2, random_state=42)"
      ],
      "metadata": {
        "id": "JNV0iRJRJU5C"
      },
      "execution_count": null,
      "outputs": []
    },
    {
      "cell_type": "code",
      "source": [
        "##To create a Random Forest classifier object.........!\n",
        "model3 = RandomForestClassifier(n_estimators=100, random_state=42)"
      ],
      "metadata": {
        "id": "nL9tf-QEJU-x"
      },
      "execution_count": null,
      "outputs": []
    },
    {
      "cell_type": "code",
      "source": [
        "##To fit the model to the training data......!\n",
        "model3.fit(X_train, y_train)"
      ],
      "metadata": {
        "id": "qXuxM18qJVEN"
      },
      "execution_count": null,
      "outputs": []
    },
    {
      "cell_type": "code",
      "source": [
        "##To pdict on the test set..............!\n",
        "y_pred = model3.predict(X_test)"
      ],
      "metadata": {
        "id": "HSDT2FN9JVIa"
      },
      "execution_count": null,
      "outputs": []
    },
    {
      "cell_type": "code",
      "source": [
        "##To calculate accuracy.............!\n",
        "accuracy = accuracy_score(y_test, y_pred)\n",
        "print(\"Accuracy:\", accuracy)"
      ],
      "metadata": {
        "id": "piZgJlYnJVM-"
      },
      "execution_count": null,
      "outputs": []
    },
    {
      "cell_type": "code",
      "source": [
        "##To create a confusion matrix.................!\n",
        "cm = confusion_matrix(y_test, y_pred)\n",
        "print(\"Confusion Matrix:\")\n",
        "print(cm)"
      ],
      "metadata": {
        "id": "II4224EcJVRe"
      },
      "execution_count": null,
      "outputs": []
    },
    {
      "cell_type": "code",
      "source": [
        "##To checking overfit for Testing Data......!\n",
        "print(\"testing accuracy:\",model3.score(X_test,y_test))"
      ],
      "metadata": {
        "id": "_ujy6tRxJVWH"
      },
      "execution_count": null,
      "outputs": []
    },
    {
      "cell_type": "code",
      "source": [
        "##To checking overfit for Training Data.....!\n",
        "print(\"traning accuracy:\",model3.score(X_train, y_train))"
      ],
      "metadata": {
        "id": "ze8HnyuJJVph"
      },
      "execution_count": null,
      "outputs": []
    }
  ]
}